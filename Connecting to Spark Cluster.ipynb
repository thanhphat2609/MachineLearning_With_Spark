{
 "cells": [
  {
   "cell_type": "markdown",
   "id": "8a440523",
   "metadata": {},
   "source": [
    "# 1. Import required libraries #"
   ]
  },
  {
   "cell_type": "code",
   "execution_count": 1,
   "id": "62126c2b",
   "metadata": {},
   "outputs": [],
   "source": [
    "from pyspark.sql import SparkSession"
   ]
  },
  {
   "cell_type": "code",
   "execution_count": 2,
   "id": "a7cb5400",
   "metadata": {},
   "outputs": [],
   "source": [
    "# Ignore warn\n",
    "def warn(*args, **kwargs):\n",
    "    pass\n",
    "import warnings\n",
    "warnings.warn = warn\n",
    "warnings.filterwarnings('ignore')"
   ]
  },
  {
   "cell_type": "code",
   "execution_count": 3,
   "id": "1c5241d6",
   "metadata": {},
   "outputs": [
    {
     "name": "stderr",
     "output_type": "stream",
     "text": [
      "24/02/15 00:52:36 WARN SparkSession: Using an existing Spark session; only runtime SQL configurations will take effect.\n"
     ]
    }
   ],
   "source": [
    "# Create SparkSession\n",
    "spark = SparkSession.builder.appName(\"ConnectSparkCluster\").getOrCreate()"
   ]
  },
  {
   "cell_type": "markdown",
   "id": "a0956e42",
   "metadata": {},
   "source": [
    "# 2. Load a csv file into Dataframe #"
   ]
  },
  {
   "cell_type": "code",
   "execution_count": 4,
   "id": "fa0e29b4",
   "metadata": {},
   "outputs": [],
   "source": [
    "df_mpg = spark.read.csv(\"../dataset/mpg.csv\", header = True, inferSchema = True)"
   ]
  },
  {
   "cell_type": "markdown",
   "id": "41987dfa",
   "metadata": {},
   "source": [
    "# 3. Explore dataset #"
   ]
  },
  {
   "cell_type": "code",
   "execution_count": 5,
   "id": "41107095",
   "metadata": {},
   "outputs": [
    {
     "name": "stdout",
     "output_type": "stream",
     "text": [
      "root\n",
      " |-- MPG: double (nullable = true)\n",
      " |-- Cylinders: integer (nullable = true)\n",
      " |-- Engine Disp: double (nullable = true)\n",
      " |-- Horsepower: integer (nullable = true)\n",
      " |-- Weight: integer (nullable = true)\n",
      " |-- Accelerate: double (nullable = true)\n",
      " |-- Year: integer (nullable = true)\n",
      " |-- Origin: string (nullable = true)\n",
      "\n"
     ]
    }
   ],
   "source": [
    "# Print the schema of dataframe\n",
    "df_mpg.printSchema()"
   ]
  },
  {
   "cell_type": "code",
   "execution_count": 6,
   "id": "48c9e921",
   "metadata": {},
   "outputs": [
    {
     "data": {
      "text/plain": [
       "[Row(MPG=15.0, Cylinders=8, Engine Disp=390.0, Horsepower=190, Weight=3850, Accelerate=8.5, Year=70, Origin='American'),\n",
       " Row(MPG=21.0, Cylinders=6, Engine Disp=199.0, Horsepower=90, Weight=2648, Accelerate=15.0, Year=70, Origin='American'),\n",
       " Row(MPG=18.0, Cylinders=6, Engine Disp=199.0, Horsepower=97, Weight=2774, Accelerate=15.5, Year=70, Origin='American'),\n",
       " Row(MPG=16.0, Cylinders=8, Engine Disp=304.0, Horsepower=150, Weight=3433, Accelerate=12.0, Year=70, Origin='American'),\n",
       " Row(MPG=14.0, Cylinders=8, Engine Disp=455.0, Horsepower=225, Weight=3086, Accelerate=10.0, Year=70, Origin='American')]"
      ]
     },
     "execution_count": 6,
     "metadata": {},
     "output_type": "execute_result"
    }
   ],
   "source": [
    "# Print first 5 rows\n",
    "df_mpg.head(5)"
   ]
  },
  {
   "cell_type": "markdown",
   "id": "a631b227",
   "metadata": {},
   "source": [
    "# 4. Stop Spark Session #"
   ]
  },
  {
   "cell_type": "code",
   "execution_count": 7,
   "id": "e6475eaa",
   "metadata": {},
   "outputs": [],
   "source": [
    "spark.stop()"
   ]
  }
 ],
 "metadata": {
  "kernelspec": {
   "display_name": "Python 3 (ipykernel)",
   "language": "python",
   "name": "python3"
  },
  "language_info": {
   "codemirror_mode": {
    "name": "ipython",
    "version": 3
   },
   "file_extension": ".py",
   "mimetype": "text/x-python",
   "name": "python",
   "nbconvert_exporter": "python",
   "pygments_lexer": "ipython3",
   "version": "3.10.12"
  }
 },
 "nbformat": 4,
 "nbformat_minor": 5
}
